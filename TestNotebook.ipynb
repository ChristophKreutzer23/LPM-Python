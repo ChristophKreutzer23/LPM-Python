{
 "cells": [
  {
   "cell_type": "markdown",
   "id": "vocational-quebec",
   "metadata": {},
   "source": [
    "# LPM Fortbildung Python\n",
    "\n",
    "Dies ist ein Testnotebook für die **LPM-Fortbildung** zum Thema *Python*\n",
    "\n",
    "> Block\n",
    "\n",
    "### Funktionen\n",
    "\n",
    "Funktionen werden in Python mit dem *def* keyword erstellt. Ein Beispiel ist unten zu sehen."
   ]
  },
  {
   "cell_type": "code",
   "execution_count": 1,
   "id": "exclusive-tackle",
   "metadata": {},
   "outputs": [],
   "source": [
    "def func():\n",
    "    print('Bla')"
   ]
  },
  {
   "cell_type": "markdown",
   "id": "certain-street",
   "metadata": {},
   "source": [
    "Um die Funktion wird einfach der Funktionsname angegeben mit den Parametern in runden Klammern."
   ]
  },
  {
   "cell_type": "code",
   "execution_count": 2,
   "id": "settled-timothy",
   "metadata": {},
   "outputs": [
    {
     "name": "stdout",
     "output_type": "stream",
     "text": [
      "Bla\n"
     ]
    }
   ],
   "source": [
    "func()"
   ]
  }
 ],
 "metadata": {
  "kernelspec": {
   "display_name": "Python 3",
   "language": "python",
   "name": "python3"
  },
  "language_info": {
   "codemirror_mode": {
    "name": "ipython",
    "version": 3
   },
   "file_extension": ".py",
   "mimetype": "text/x-python",
   "name": "python",
   "nbconvert_exporter": "python",
   "pygments_lexer": "ipython3",
   "version": "3.7.10"
  }
 },
 "nbformat": 4,
 "nbformat_minor": 5
}
